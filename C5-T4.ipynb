{
 "cells": [
  {
   "cell_type": "markdown",
   "metadata": {},
   "source": [
    "Import and prepare the data"
   ]
  },
  {
   "cell_type": "code",
   "execution_count": 1,
   "metadata": {},
   "outputs": [],
   "source": [
    "import pandas as pd"
   ]
  },
  {
   "cell_type": "code",
   "execution_count": 2,
   "metadata": {},
   "outputs": [],
   "source": [
    "credit = pd.read_csv('credit data.csv')"
   ]
  },
  {
   "cell_type": "code",
   "execution_count": 3,
   "metadata": {},
   "outputs": [
    {
     "data": {
      "text/html": [
       "<div>\n",
       "<style scoped>\n",
       "    .dataframe tbody tr th:only-of-type {\n",
       "        vertical-align: middle;\n",
       "    }\n",
       "\n",
       "    .dataframe tbody tr th {\n",
       "        vertical-align: top;\n",
       "    }\n",
       "\n",
       "    .dataframe thead th {\n",
       "        text-align: right;\n",
       "    }\n",
       "</style>\n",
       "<table border=\"1\" class=\"dataframe\">\n",
       "  <thead>\n",
       "    <tr style=\"text-align: right;\">\n",
       "      <th></th>\n",
       "      <th>Age</th>\n",
       "      <th>Sex</th>\n",
       "      <th>Job</th>\n",
       "      <th>Housing</th>\n",
       "      <th>Saving accounts</th>\n",
       "      <th>Checking account</th>\n",
       "      <th>Credit amount</th>\n",
       "      <th>Duration</th>\n",
       "      <th>Purpose</th>\n",
       "      <th>Risk</th>\n",
       "    </tr>\n",
       "  </thead>\n",
       "  <tbody>\n",
       "    <tr>\n",
       "      <th>0</th>\n",
       "      <td>67</td>\n",
       "      <td>male</td>\n",
       "      <td>2</td>\n",
       "      <td>own</td>\n",
       "      <td>NaN</td>\n",
       "      <td>little</td>\n",
       "      <td>1169</td>\n",
       "      <td>6</td>\n",
       "      <td>radio/TV</td>\n",
       "      <td>good</td>\n",
       "    </tr>\n",
       "    <tr>\n",
       "      <th>1</th>\n",
       "      <td>22</td>\n",
       "      <td>female</td>\n",
       "      <td>2</td>\n",
       "      <td>own</td>\n",
       "      <td>little</td>\n",
       "      <td>moderate</td>\n",
       "      <td>5951</td>\n",
       "      <td>48</td>\n",
       "      <td>radio/TV</td>\n",
       "      <td>bad</td>\n",
       "    </tr>\n",
       "    <tr>\n",
       "      <th>2</th>\n",
       "      <td>49</td>\n",
       "      <td>male</td>\n",
       "      <td>1</td>\n",
       "      <td>own</td>\n",
       "      <td>little</td>\n",
       "      <td>NaN</td>\n",
       "      <td>2096</td>\n",
       "      <td>12</td>\n",
       "      <td>education</td>\n",
       "      <td>good</td>\n",
       "    </tr>\n",
       "    <tr>\n",
       "      <th>3</th>\n",
       "      <td>45</td>\n",
       "      <td>male</td>\n",
       "      <td>2</td>\n",
       "      <td>free</td>\n",
       "      <td>little</td>\n",
       "      <td>little</td>\n",
       "      <td>7882</td>\n",
       "      <td>42</td>\n",
       "      <td>furniture/equipment</td>\n",
       "      <td>good</td>\n",
       "    </tr>\n",
       "    <tr>\n",
       "      <th>4</th>\n",
       "      <td>53</td>\n",
       "      <td>male</td>\n",
       "      <td>2</td>\n",
       "      <td>free</td>\n",
       "      <td>little</td>\n",
       "      <td>little</td>\n",
       "      <td>4870</td>\n",
       "      <td>24</td>\n",
       "      <td>car</td>\n",
       "      <td>bad</td>\n",
       "    </tr>\n",
       "  </tbody>\n",
       "</table>\n",
       "</div>"
      ],
      "text/plain": [
       "   Age     Sex  Job Housing Saving accounts Checking account  Credit amount  \\\n",
       "0   67    male    2     own             NaN           little           1169   \n",
       "1   22  female    2     own          little         moderate           5951   \n",
       "2   49    male    1     own          little              NaN           2096   \n",
       "3   45    male    2    free          little           little           7882   \n",
       "4   53    male    2    free          little           little           4870   \n",
       "\n",
       "   Duration              Purpose  Risk  \n",
       "0         6             radio/TV  good  \n",
       "1        48             radio/TV   bad  \n",
       "2        12            education  good  \n",
       "3        42  furniture/equipment  good  \n",
       "4        24                  car   bad  "
      ]
     },
     "execution_count": 3,
     "metadata": {},
     "output_type": "execute_result"
    }
   ],
   "source": [
    "credit.head()"
   ]
  },
  {
   "cell_type": "code",
   "execution_count": 4,
   "metadata": {},
   "outputs": [
    {
     "data": {
      "text/html": [
       "<div>\n",
       "<style scoped>\n",
       "    .dataframe tbody tr th:only-of-type {\n",
       "        vertical-align: middle;\n",
       "    }\n",
       "\n",
       "    .dataframe tbody tr th {\n",
       "        vertical-align: top;\n",
       "    }\n",
       "\n",
       "    .dataframe thead th {\n",
       "        text-align: right;\n",
       "    }\n",
       "</style>\n",
       "<table border=\"1\" class=\"dataframe\">\n",
       "  <thead>\n",
       "    <tr style=\"text-align: right;\">\n",
       "      <th></th>\n",
       "      <th>Age</th>\n",
       "      <th>Job</th>\n",
       "      <th>Credit amount</th>\n",
       "      <th>Duration</th>\n",
       "    </tr>\n",
       "  </thead>\n",
       "  <tbody>\n",
       "    <tr>\n",
       "      <th>count</th>\n",
       "      <td>1000.000000</td>\n",
       "      <td>1000.000000</td>\n",
       "      <td>1000.000000</td>\n",
       "      <td>1000.000000</td>\n",
       "    </tr>\n",
       "    <tr>\n",
       "      <th>mean</th>\n",
       "      <td>35.546000</td>\n",
       "      <td>1.904000</td>\n",
       "      <td>3271.258000</td>\n",
       "      <td>20.903000</td>\n",
       "    </tr>\n",
       "    <tr>\n",
       "      <th>std</th>\n",
       "      <td>11.375469</td>\n",
       "      <td>0.653614</td>\n",
       "      <td>2822.736876</td>\n",
       "      <td>12.058814</td>\n",
       "    </tr>\n",
       "    <tr>\n",
       "      <th>min</th>\n",
       "      <td>19.000000</td>\n",
       "      <td>0.000000</td>\n",
       "      <td>250.000000</td>\n",
       "      <td>4.000000</td>\n",
       "    </tr>\n",
       "    <tr>\n",
       "      <th>25%</th>\n",
       "      <td>27.000000</td>\n",
       "      <td>2.000000</td>\n",
       "      <td>1365.500000</td>\n",
       "      <td>12.000000</td>\n",
       "    </tr>\n",
       "    <tr>\n",
       "      <th>50%</th>\n",
       "      <td>33.000000</td>\n",
       "      <td>2.000000</td>\n",
       "      <td>2319.500000</td>\n",
       "      <td>18.000000</td>\n",
       "    </tr>\n",
       "    <tr>\n",
       "      <th>75%</th>\n",
       "      <td>42.000000</td>\n",
       "      <td>2.000000</td>\n",
       "      <td>3972.250000</td>\n",
       "      <td>24.000000</td>\n",
       "    </tr>\n",
       "    <tr>\n",
       "      <th>max</th>\n",
       "      <td>75.000000</td>\n",
       "      <td>3.000000</td>\n",
       "      <td>18424.000000</td>\n",
       "      <td>72.000000</td>\n",
       "    </tr>\n",
       "  </tbody>\n",
       "</table>\n",
       "</div>"
      ],
      "text/plain": [
       "               Age          Job  Credit amount     Duration\n",
       "count  1000.000000  1000.000000    1000.000000  1000.000000\n",
       "mean     35.546000     1.904000    3271.258000    20.903000\n",
       "std      11.375469     0.653614    2822.736876    12.058814\n",
       "min      19.000000     0.000000     250.000000     4.000000\n",
       "25%      27.000000     2.000000    1365.500000    12.000000\n",
       "50%      33.000000     2.000000    2319.500000    18.000000\n",
       "75%      42.000000     2.000000    3972.250000    24.000000\n",
       "max      75.000000     3.000000   18424.000000    72.000000"
      ]
     },
     "execution_count": 4,
     "metadata": {},
     "output_type": "execute_result"
    }
   ],
   "source": [
    "credit.describe()"
   ]
  },
  {
   "cell_type": "code",
   "execution_count": 5,
   "metadata": {},
   "outputs": [
    {
     "name": "stdout",
     "output_type": "stream",
     "text": [
      "<class 'pandas.core.frame.DataFrame'>\n",
      "RangeIndex: 1000 entries, 0 to 999\n",
      "Data columns (total 10 columns):\n",
      " #   Column            Non-Null Count  Dtype \n",
      "---  ------            --------------  ----- \n",
      " 0   Age               1000 non-null   int64 \n",
      " 1   Sex               1000 non-null   object\n",
      " 2   Job               1000 non-null   int64 \n",
      " 3   Housing           1000 non-null   object\n",
      " 4   Saving accounts   817 non-null    object\n",
      " 5   Checking account  606 non-null    object\n",
      " 6   Credit amount     1000 non-null   int64 \n",
      " 7   Duration          1000 non-null   int64 \n",
      " 8   Purpose           1000 non-null   object\n",
      " 9   Risk              1000 non-null   object\n",
      "dtypes: int64(4), object(6)\n",
      "memory usage: 78.2+ KB\n"
     ]
    }
   ],
   "source": [
    "credit.info()"
   ]
  },
  {
   "cell_type": "code",
   "execution_count": 6,
   "metadata": {},
   "outputs": [],
   "source": [
    "import matplotlib.pyplot as plt"
   ]
  },
  {
   "cell_type": "code",
   "execution_count": 7,
   "metadata": {},
   "outputs": [
    {
     "name": "stdout",
     "output_type": "stream",
     "text": [
      "Index(['Age', 'Sex', 'Job', 'Housing', 'Saving accounts', 'Checking account',\n",
      "       'Credit amount', 'Duration', 'Purpose', 'Risk'],\n",
      "      dtype='object')\n"
     ]
    }
   ],
   "source": [
    "header = credit.dtypes.index\n",
    "print(header)"
   ]
  },
  {
   "cell_type": "code",
   "execution_count": 8,
   "metadata": {},
   "outputs": [
    {
     "data": {
      "image/png": "[encoded data removed]",
      "text/plain": [
       "<Figure size 432x288 with 1 Axes>"
      ]
     },
     "metadata": {
      "needs_background": "light"
     },
     "output_type": "display_data"
    }
   ],
   "source": [
    "plt.hist(credit['Age'])\n",
    "plt.show()"
   ]
  },
  {
   "cell_type": "code",
   "execution_count": 9,
   "metadata": {},
   "outputs": [
    {
     "data": {
      "text/plain": [
       "(array([483., 349., 123.,  45.]),\n",
       " array([19., 33., 47., 61., 75.]),\n",
       " <a list of 4 Patch objects>)"
      ]
     },
     "execution_count": 9,
     "metadata": {},
     "output_type": "execute_result"
    },
    {
     "data": {
      "image/png": "[encoded data removed]",
      "text/plain": [
       "<Figure size 432x288 with 1 Axes>"
      ]
     },
     "metadata": {
      "needs_background": "light"
     },
     "output_type": "display_data"
    }
   ],
   "source": [
    "plt.hist(credit['Age'], bins=4)"
   ]
  },
  {
   "cell_type": "code",
   "execution_count": 10,
   "metadata": {},
   "outputs": [
    {
     "data": {
      "image/png": "[encoded data removed]",
      "text/plain": [
       "<Figure size 432x288 with 1 Axes>"
      ]
     },
     "metadata": {
      "needs_background": "light"
     },
     "output_type": "display_data"
    }
   ],
   "source": [
    "plt.scatter(credit['Credit amount'],credit['Age'])\n",
    "plt.show()"
   ]
  },
  {
   "cell_type": "code",
   "execution_count": 11,
   "metadata": {},
   "outputs": [
    {
     "name": "stdout",
     "output_type": "stream",
     "text": [
      "                    Age       Job  Credit amount  Duration\n",
      "Age            1.000000  0.015673       0.032716 -0.036136\n",
      "Job            0.015673  1.000000       0.285385  0.210910\n",
      "Credit amount  0.032716  0.285385       1.000000  0.624984\n",
      "Duration      -0.036136  0.210910       0.624984  1.000000\n"
     ]
    }
   ],
   "source": [
    "corrMat = credit.corr()\n",
    "print(corrMat)"
   ]
  },
  {
   "cell_type": "code",
   "execution_count": 12,
   "metadata": {},
   "outputs": [
    {
     "name": "stdout",
     "output_type": "stream",
     "text": [
      "                       Age         Job  Credit amount      Duration\n",
      "Age             129.401285    0.116533   1.050523e+03     -4.956995\n",
      "Job               0.116533    0.427211   5.265303e+02      1.662350\n",
      "Credit amount  1050.522655  526.530298   7.967843e+06  21273.749776\n",
      "Duration         -4.956995    1.662350   2.127375e+04    145.415006\n"
     ]
    }
   ],
   "source": [
    "covMat = credit.cov()\n",
    "print(covMat)"
   ]
  },
  {
   "cell_type": "code",
   "execution_count": 13,
   "metadata": {},
   "outputs": [
    {
     "data": {
      "text/plain": [
       "<seaborn.axisgrid.PairGrid at 0x1dfe5077988>"
      ]
     },
     "execution_count": 13,
     "metadata": {},
     "output_type": "execute_result"
    },
    {
     "data": {
      "image/png": "[encoded data removed]",
      "text/plain": [
       "<Figure size 720x720 with 20 Axes>"
      ]
     },
     "metadata": {
      "needs_background": "light"
     },
     "output_type": "display_data"
    }
   ],
   "source": [
    "import seaborn as sns\n",
    "sns.pairplot(credit)"
   ]
  },
  {
   "cell_type": "markdown",
   "metadata": {},
   "source": [
    "Preprocess the data set"
   ]
  },
  {
   "cell_type": "code",
   "execution_count": 14,
   "metadata": {},
   "outputs": [
    {
     "data": {
      "text/html": [
       "<div>\n",
       "<style scoped>\n",
       "    .dataframe tbody tr th:only-of-type {\n",
       "        vertical-align: middle;\n",
       "    }\n",
       "\n",
       "    .dataframe tbody tr th {\n",
       "        vertical-align: top;\n",
       "    }\n",
       "\n",
       "    .dataframe thead th {\n",
       "        text-align: right;\n",
       "    }\n",
       "</style>\n",
       "<table border=\"1\" class=\"dataframe\">\n",
       "  <thead>\n",
       "    <tr style=\"text-align: right;\">\n",
       "      <th></th>\n",
       "      <th>Age</th>\n",
       "      <th>Sex</th>\n",
       "      <th>Job</th>\n",
       "      <th>Housing</th>\n",
       "      <th>Saving accounts</th>\n",
       "      <th>Checking account</th>\n",
       "      <th>Credit amount</th>\n",
       "      <th>Duration</th>\n",
       "      <th>Purpose</th>\n",
       "      <th>Risk</th>\n",
       "    </tr>\n",
       "  </thead>\n",
       "  <tbody>\n",
       "    <tr>\n",
       "      <th>0</th>\n",
       "      <td>67</td>\n",
       "      <td>male</td>\n",
       "      <td>2</td>\n",
       "      <td>own</td>\n",
       "      <td>NaN</td>\n",
       "      <td>little</td>\n",
       "      <td>1169</td>\n",
       "      <td>6</td>\n",
       "      <td>radio/TV</td>\n",
       "      <td>good</td>\n",
       "    </tr>\n",
       "    <tr>\n",
       "      <th>1</th>\n",
       "      <td>22</td>\n",
       "      <td>female</td>\n",
       "      <td>2</td>\n",
       "      <td>own</td>\n",
       "      <td>little</td>\n",
       "      <td>moderate</td>\n",
       "      <td>5951</td>\n",
       "      <td>48</td>\n",
       "      <td>radio/TV</td>\n",
       "      <td>bad</td>\n",
       "    </tr>\n",
       "    <tr>\n",
       "      <th>2</th>\n",
       "      <td>49</td>\n",
       "      <td>male</td>\n",
       "      <td>1</td>\n",
       "      <td>own</td>\n",
       "      <td>little</td>\n",
       "      <td>NaN</td>\n",
       "      <td>2096</td>\n",
       "      <td>12</td>\n",
       "      <td>education</td>\n",
       "      <td>good</td>\n",
       "    </tr>\n",
       "    <tr>\n",
       "      <th>3</th>\n",
       "      <td>45</td>\n",
       "      <td>male</td>\n",
       "      <td>2</td>\n",
       "      <td>free</td>\n",
       "      <td>little</td>\n",
       "      <td>little</td>\n",
       "      <td>7882</td>\n",
       "      <td>42</td>\n",
       "      <td>furniture/equipment</td>\n",
       "      <td>good</td>\n",
       "    </tr>\n",
       "    <tr>\n",
       "      <th>4</th>\n",
       "      <td>53</td>\n",
       "      <td>male</td>\n",
       "      <td>2</td>\n",
       "      <td>free</td>\n",
       "      <td>little</td>\n",
       "      <td>little</td>\n",
       "      <td>4870</td>\n",
       "      <td>24</td>\n",
       "      <td>car</td>\n",
       "      <td>bad</td>\n",
       "    </tr>\n",
       "  </tbody>\n",
       "</table>\n",
       "</div>"
      ],
      "text/plain": [
       "   Age     Sex  Job Housing Saving accounts Checking account  Credit amount  \\\n",
       "0   67    male    2     own             NaN           little           1169   \n",
       "1   22  female    2     own          little         moderate           5951   \n",
       "2   49    male    1     own          little              NaN           2096   \n",
       "3   45    male    2    free          little           little           7882   \n",
       "4   53    male    2    free          little           little           4870   \n",
       "\n",
       "   Duration              Purpose  Risk  \n",
       "0         6             radio/TV  good  \n",
       "1        48             radio/TV   bad  \n",
       "2        12            education  good  \n",
       "3        42  furniture/equipment  good  \n",
       "4        24                  car   bad  "
      ]
     },
     "execution_count": 14,
     "metadata": {},
     "output_type": "execute_result"
    }
   ],
   "source": [
    "credit.head()"
   ]
  },
  {
   "cell_type": "code",
   "execution_count": 15,
   "metadata": {},
   "outputs": [],
   "source": [
    "credit['Saving accounts'] = credit['Saving accounts'].map({\"little\":0,\"moderate\":1,\"quite rich\":2 ,\"rich\":3 });\n",
    "    "
   ]
  },
  {
   "cell_type": "code",
   "execution_count": 16,
   "metadata": {},
   "outputs": [],
   "source": [
    "credit['Saving accounts'] = credit['Saving accounts'].fillna(credit['Saving accounts'].dropna().mean())"
   ]
  },
  {
   "cell_type": "code",
   "execution_count": 17,
   "metadata": {},
   "outputs": [],
   "source": [
    "credit['Checking account'] = credit['Checking account'].map({\"little\":0,\"moderate\":1,\"rich\":2 });\n"
   ]
  },
  {
   "cell_type": "code",
   "execution_count": 18,
   "metadata": {},
   "outputs": [],
   "source": [
    "credit['Checking account'] = credit['Checking account'].fillna(credit['Checking account'].dropna().mean())"
   ]
  },
  {
   "cell_type": "code",
   "execution_count": 19,
   "metadata": {},
   "outputs": [],
   "source": [
    "credit['Sex'] = credit['Sex'].map({\"male\":0,\"female\":1}).astype(float);"
   ]
  },
  {
   "cell_type": "code",
   "execution_count": 20,
   "metadata": {},
   "outputs": [],
   "source": [
    "credit['Housing'] = credit['Housing'].map({\"own\":0,\"free\":1,\"rent\":2}).astype(float);"
   ]
  },
  {
   "cell_type": "code",
   "execution_count": 21,
   "metadata": {},
   "outputs": [],
   "source": [
    "credit['Purpose'] = credit['Purpose'].map({'radio/TV':0, 'education':1, 'furniture/equipment':2, 'car':3, 'business':4,\n",
    "       'domestic appliances':5, 'repairs':6, 'vacation/others':7}).astype(float);"
   ]
  },
  {
   "cell_type": "code",
   "execution_count": 22,
   "metadata": {},
   "outputs": [],
   "source": [
    "credit['Risk'] = credit['Risk'].map({\"good\":1,\"bad\":0}).astype(float);"
   ]
  },
  {
   "cell_type": "code",
   "execution_count": 23,
   "metadata": {},
   "outputs": [
    {
     "data": {
      "text/html": [
       "<div>\n",
       "<style scoped>\n",
       "    .dataframe tbody tr th:only-of-type {\n",
       "        vertical-align: middle;\n",
       "    }\n",
       "\n",
       "    .dataframe tbody tr th {\n",
       "        vertical-align: top;\n",
       "    }\n",
       "\n",
       "    .dataframe thead th {\n",
       "        text-align: right;\n",
       "    }\n",
       "</style>\n",
       "<table border=\"1\" class=\"dataframe\">\n",
       "  <thead>\n",
       "    <tr style=\"text-align: right;\">\n",
       "      <th></th>\n",
       "      <th>Age</th>\n",
       "      <th>Sex</th>\n",
       "      <th>Job</th>\n",
       "      <th>Housing</th>\n",
       "      <th>Saving accounts</th>\n",
       "      <th>Checking account</th>\n",
       "      <th>Credit amount</th>\n",
       "      <th>Duration</th>\n",
       "      <th>Purpose</th>\n",
       "      <th>Risk</th>\n",
       "    </tr>\n",
       "  </thead>\n",
       "  <tbody>\n",
       "    <tr>\n",
       "      <th>0</th>\n",
       "      <td>67</td>\n",
       "      <td>0.0</td>\n",
       "      <td>2</td>\n",
       "      <td>0.0</td>\n",
       "      <td>0.456548</td>\n",
       "      <td>0.000000</td>\n",
       "      <td>1169</td>\n",
       "      <td>6</td>\n",
       "      <td>0.0</td>\n",
       "      <td>1.0</td>\n",
       "    </tr>\n",
       "    <tr>\n",
       "      <th>1</th>\n",
       "      <td>22</td>\n",
       "      <td>1.0</td>\n",
       "      <td>2</td>\n",
       "      <td>0.0</td>\n",
       "      <td>0.000000</td>\n",
       "      <td>1.000000</td>\n",
       "      <td>5951</td>\n",
       "      <td>48</td>\n",
       "      <td>0.0</td>\n",
       "      <td>0.0</td>\n",
       "    </tr>\n",
       "    <tr>\n",
       "      <th>2</th>\n",
       "      <td>49</td>\n",
       "      <td>0.0</td>\n",
       "      <td>1</td>\n",
       "      <td>0.0</td>\n",
       "      <td>0.000000</td>\n",
       "      <td>0.651815</td>\n",
       "      <td>2096</td>\n",
       "      <td>12</td>\n",
       "      <td>1.0</td>\n",
       "      <td>1.0</td>\n",
       "    </tr>\n",
       "    <tr>\n",
       "      <th>3</th>\n",
       "      <td>45</td>\n",
       "      <td>0.0</td>\n",
       "      <td>2</td>\n",
       "      <td>1.0</td>\n",
       "      <td>0.000000</td>\n",
       "      <td>0.000000</td>\n",
       "      <td>7882</td>\n",
       "      <td>42</td>\n",
       "      <td>2.0</td>\n",
       "      <td>1.0</td>\n",
       "    </tr>\n",
       "    <tr>\n",
       "      <th>4</th>\n",
       "      <td>53</td>\n",
       "      <td>0.0</td>\n",
       "      <td>2</td>\n",
       "      <td>1.0</td>\n",
       "      <td>0.000000</td>\n",
       "      <td>0.000000</td>\n",
       "      <td>4870</td>\n",
       "      <td>24</td>\n",
       "      <td>3.0</td>\n",
       "      <td>0.0</td>\n",
       "    </tr>\n",
       "  </tbody>\n",
       "</table>\n",
       "</div>"
      ],
      "text/plain": [
       "   Age  Sex  Job  Housing  Saving accounts  Checking account  Credit amount  \\\n",
       "0   67  0.0    2      0.0         0.456548          0.000000           1169   \n",
       "1   22  1.0    2      0.0         0.000000          1.000000           5951   \n",
       "2   49  0.0    1      0.0         0.000000          0.651815           2096   \n",
       "3   45  0.0    2      1.0         0.000000          0.000000           7882   \n",
       "4   53  0.0    2      1.0         0.000000          0.000000           4870   \n",
       "\n",
       "   Duration  Purpose  Risk  \n",
       "0         6      0.0   1.0  \n",
       "1        48      0.0   0.0  \n",
       "2        12      1.0   1.0  \n",
       "3        42      2.0   1.0  \n",
       "4        24      3.0   0.0  "
      ]
     },
     "execution_count": 23,
     "metadata": {},
     "output_type": "execute_result"
    }
   ],
   "source": [
    "credit.head()"
   ]
  },
  {
   "cell_type": "code",
   "execution_count": 24,
   "metadata": {},
   "outputs": [
    {
     "data": {
      "text/html": [
       "<style  type=\"text/css\" >\n",
       "    #T_deb27846_72c4_11ea_be44_3c9509ce5eb8row0_col0 {\n",
       "            background-color:  #b40426;\n",
       "            color:  #f1f1f1;\n",
       "        }    #T_deb27846_72c4_11ea_be44_3c9509ce5eb8row0_col1 {\n",
       "            background-color:  #3b4cc0;\n",
       "            color:  #f1f1f1;\n",
       "        }    #T_deb27846_72c4_11ea_be44_3c9509ce5eb8row0_col2 {\n",
       "            background-color:  #536edd;\n",
       "            color:  #000000;\n",
       "        }    #T_deb27846_72c4_11ea_be44_3c9509ce5eb8row0_col3 {\n",
       "            background-color:  #3e51c5;\n",
       "            color:  #f1f1f1;\n",
       "        }    #T_deb27846_72c4_11ea_be44_3c9509ce5eb8row0_col4 {\n",
       "            background-color:  #5470de;\n",
       "            color:  #000000;\n",
       "        }    #T_deb27846_72c4_11ea_be44_3c9509ce5eb8row0_col5 {\n",
       "            background-color:  #5470de;\n",
       "            color:  #000000;\n",
       "        }    #T_deb27846_72c4_11ea_be44_3c9509ce5eb8row0_col6 {\n",
       "            background-color:  #6e90f2;\n",
       "            color:  #000000;\n",
       "        }    #T_deb27846_72c4_11ea_be44_3c9509ce5eb8row0_col7 {\n",
       "            background-color:  #688aef;\n",
       "            color:  #000000;\n",
       "        }    #T_deb27846_72c4_11ea_be44_3c9509ce5eb8row0_col8 {\n",
       "            background-color:  #688aef;\n",
       "            color:  #000000;\n",
       "        }    #T_deb27846_72c4_11ea_be44_3c9509ce5eb8row0_col9 {\n",
       "            background-color:  #8db0fe;\n",
       "            color:  #000000;\n",
       "        }    #T_deb27846_72c4_11ea_be44_3c9509ce5eb8row1_col0 {\n",
       "            background-color:  #3b4cc0;\n",
       "            color:  #f1f1f1;\n",
       "        }    #T_deb27846_72c4_11ea_be44_3c9509ce5eb8row1_col1 {\n",
       "            background-color:  #b40426;\n",
       "            color:  #f1f1f1;\n",
       "        }    #T_deb27846_72c4_11ea_be44_3c9509ce5eb8row1_col2 {\n",
       "            background-color:  #3b4cc0;\n",
       "            color:  #f1f1f1;\n",
       "        }    #T_deb27846_72c4_11ea_be44_3c9509ce5eb8row1_col3 {\n",
       "            background-color:  #94b6ff;\n",
       "            color:  #000000;\n",
       "        }    #T_deb27846_72c4_11ea_be44_3c9509ce5eb8row1_col4 {\n",
       "            background-color:  #4b64d5;\n",
       "            color:  #f1f1f1;\n",
       "        }    #T_deb27846_72c4_11ea_be44_3c9509ce5eb8row1_col5 {\n",
       "            background-color:  #516ddb;\n",
       "            color:  #000000;\n",
       "        }    #T_deb27846_72c4_11ea_be44_3c9509ce5eb8row1_col6 {\n",
       "            background-color:  #4a63d3;\n",
       "            color:  #f1f1f1;\n",
       "        }    #T_deb27846_72c4_11ea_be44_3c9509ce5eb8row1_col7 {\n",
       "            background-color:  #5d7ce6;\n",
       "            color:  #000000;\n",
       "        }    #T_deb27846_72c4_11ea_be44_3c9509ce5eb8row1_col8 {\n",
       "            background-color:  #455cce;\n",
       "            color:  #f1f1f1;\n",
       "        }    #T_deb27846_72c4_11ea_be44_3c9509ce5eb8row1_col9 {\n",
       "            background-color:  #5e7de7;\n",
       "            color:  #000000;\n",
       "        }    #T_deb27846_72c4_11ea_be44_3c9509ce5eb8row2_col0 {\n",
       "            background-color:  #6b8df0;\n",
       "            color:  #000000;\n",
       "        }    #T_deb27846_72c4_11ea_be44_3c9509ce5eb8row2_col1 {\n",
       "            background-color:  #536edd;\n",
       "            color:  #000000;\n",
       "        }    #T_deb27846_72c4_11ea_be44_3c9509ce5eb8row2_col2 {\n",
       "            background-color:  #b40426;\n",
       "            color:  #f1f1f1;\n",
       "        }    #T_deb27846_72c4_11ea_be44_3c9509ce5eb8row2_col3 {\n",
       "            background-color:  #6180e9;\n",
       "            color:  #000000;\n",
       "        }    #T_deb27846_72c4_11ea_be44_3c9509ce5eb8row2_col4 {\n",
       "            background-color:  #4257c9;\n",
       "            color:  #f1f1f1;\n",
       "        }    #T_deb27846_72c4_11ea_be44_3c9509ce5eb8row2_col5 {\n",
       "            background-color:  #4c66d6;\n",
       "            color:  #000000;\n",
       "        }    #T_deb27846_72c4_11ea_be44_3c9509ce5eb8row2_col6 {\n",
       "            background-color:  #bad0f8;\n",
       "            color:  #000000;\n",
       "        }    #T_deb27846_72c4_11ea_be44_3c9509ce5eb8row2_col7 {\n",
       "            background-color:  #afcafc;\n",
       "            color:  #000000;\n",
       "        }    #T_deb27846_72c4_11ea_be44_3c9509ce5eb8row2_col8 {\n",
       "            background-color:  #5a78e4;\n",
       "            color:  #000000;\n",
       "        }    #T_deb27846_72c4_11ea_be44_3c9509ce5eb8row2_col9 {\n",
       "            background-color:  #6a8bef;\n",
       "            color:  #000000;\n",
       "        }    #T_deb27846_72c4_11ea_be44_3c9509ce5eb8row3_col0 {\n",
       "            background-color:  #485fd1;\n",
       "            color:  #f1f1f1;\n",
       "        }    #T_deb27846_72c4_11ea_be44_3c9509ce5eb8row3_col1 {\n",
       "            background-color:  #9dbdff;\n",
       "            color:  #000000;\n",
       "        }    #T_deb27846_72c4_11ea_be44_3c9509ce5eb8row3_col2 {\n",
       "            background-color:  #536edd;\n",
       "            color:  #000000;\n",
       "        }    #T_deb27846_72c4_11ea_be44_3c9509ce5eb8row3_col3 {\n",
       "            background-color:  #b40426;\n",
       "            color:  #f1f1f1;\n",
       "        }    #T_deb27846_72c4_11ea_be44_3c9509ce5eb8row3_col4 {\n",
       "            background-color:  #4a63d3;\n",
       "            color:  #f1f1f1;\n",
       "        }    #T_deb27846_72c4_11ea_be44_3c9509ce5eb8row3_col5 {\n",
       "            background-color:  #3b4cc0;\n",
       "            color:  #f1f1f1;\n",
       "        }    #T_deb27846_72c4_11ea_be44_3c9509ce5eb8row3_col6 {\n",
       "            background-color:  #7597f6;\n",
       "            color:  #000000;\n",
       "        }    #T_deb27846_72c4_11ea_be44_3c9509ce5eb8row3_col7 {\n",
       "            background-color:  #7699f6;\n",
       "            color:  #000000;\n",
       "        }    #T_deb27846_72c4_11ea_be44_3c9509ce5eb8row3_col8 {\n",
       "            background-color:  #5f7fe8;\n",
       "            color:  #000000;\n",
       "        }    #T_deb27846_72c4_11ea_be44_3c9509ce5eb8row3_col9 {\n",
       "            background-color:  #516ddb;\n",
       "            color:  #000000;\n",
       "        }    #T_deb27846_72c4_11ea_be44_3c9509ce5eb8row4_col0 {\n",
       "            background-color:  #7093f3;\n",
       "            color:  #000000;\n",
       "        }    #T_deb27846_72c4_11ea_be44_3c9509ce5eb8row4_col1 {\n",
       "            background-color:  #6788ee;\n",
       "            color:  #000000;\n",
       "        }    #T_deb27846_72c4_11ea_be44_3c9509ce5eb8row4_col2 {\n",
       "            background-color:  #455cce;\n",
       "            color:  #f1f1f1;\n",
       "        }    #T_deb27846_72c4_11ea_be44_3c9509ce5eb8row4_col3 {\n",
       "            background-color:  #5b7ae5;\n",
       "            color:  #000000;\n",
       "        }    #T_deb27846_72c4_11ea_be44_3c9509ce5eb8row4_col4 {\n",
       "            background-color:  #b40426;\n",
       "            color:  #f1f1f1;\n",
       "        }    #T_deb27846_72c4_11ea_be44_3c9509ce5eb8row4_col5 {\n",
       "            background-color:  #7396f5;\n",
       "            color:  #000000;\n",
       "        }    #T_deb27846_72c4_11ea_be44_3c9509ce5eb8row4_col6 {\n",
       "            background-color:  #5470de;\n",
       "            color:  #000000;\n",
       "        }    #T_deb27846_72c4_11ea_be44_3c9509ce5eb8row4_col7 {\n",
       "            background-color:  #6b8df0;\n",
       "            color:  #000000;\n",
       "        }    #T_deb27846_72c4_11ea_be44_3c9509ce5eb8row4_col8 {\n",
       "            background-color:  #5a78e4;\n",
       "            color:  #000000;\n",
       "        }    #T_deb27846_72c4_11ea_be44_3c9509ce5eb8row4_col9 {\n",
       "            background-color:  #9abbff;\n",
       "            color:  #000000;\n",
       "        }    #T_deb27846_72c4_11ea_be44_3c9509ce5eb8row5_col0 {\n",
       "            background-color:  #688aef;\n",
       "            color:  #000000;\n",
       "        }    #T_deb27846_72c4_11ea_be44_3c9509ce5eb8row5_col1 {\n",
       "            background-color:  #6687ed;\n",
       "            color:  #000000;\n",
       "        }    #T_deb27846_72c4_11ea_be44_3c9509ce5eb8row5_col2 {\n",
       "            background-color:  #4961d2;\n",
       "            color:  #f1f1f1;\n",
       "        }    #T_deb27846_72c4_11ea_be44_3c9509ce5eb8row5_col3 {\n",
       "            background-color:  #445acc;\n",
       "            color:  #f1f1f1;\n",
       "        }    #T_deb27846_72c4_11ea_be44_3c9509ce5eb8row5_col4 {\n",
       "            background-color:  #6b8df0;\n",
       "            color:  #000000;\n",
       "        }    #T_deb27846_72c4_11ea_be44_3c9509ce5eb8row5_col5 {\n",
       "            background-color:  #b40426;\n",
       "            color:  #f1f1f1;\n",
       "        }    #T_deb27846_72c4_11ea_be44_3c9509ce5eb8row5_col6 {\n",
       "            background-color:  #5f7fe8;\n",
       "            color:  #000000;\n",
       "        }    #T_deb27846_72c4_11ea_be44_3c9509ce5eb8row5_col7 {\n",
       "            background-color:  #6a8bef;\n",
       "            color:  #000000;\n",
       "        }    #T_deb27846_72c4_11ea_be44_3c9509ce5eb8row5_col8 {\n",
       "            background-color:  #445acc;\n",
       "            color:  #f1f1f1;\n",
       "        }    #T_deb27846_72c4_11ea_be44_3c9509ce5eb8row5_col9 {\n",
       "            background-color:  #9bbcff;\n",
       "            color:  #000000;\n",
       "        }    #T_deb27846_72c4_11ea_be44_3c9509ce5eb8row6_col0 {\n",
       "            background-color:  #6f92f3;\n",
       "            color:  #000000;\n",
       "        }    #T_deb27846_72c4_11ea_be44_3c9509ce5eb8row6_col1 {\n",
       "            background-color:  #4c66d6;\n",
       "            color:  #000000;\n",
       "        }    #T_deb27846_72c4_11ea_be44_3c9509ce5eb8row6_col2 {\n",
       "            background-color:  #aac7fd;\n",
       "            color:  #000000;\n",
       "        }    #T_deb27846_72c4_11ea_be44_3c9509ce5eb8row6_col3 {\n",
       "            background-color:  #6c8ff1;\n",
       "            color:  #000000;\n",
       "        }    #T_deb27846_72c4_11ea_be44_3c9509ce5eb8row6_col4 {\n",
       "            background-color:  #3b4cc0;\n",
       "            color:  #f1f1f1;\n",
       "        }    #T_deb27846_72c4_11ea_be44_3c9509ce5eb8row6_col5 {\n",
       "            background-color:  #4e68d8;\n",
       "            color:  #000000;\n",
       "        }    #T_deb27846_72c4_11ea_be44_3c9509ce5eb8row6_col6 {\n",
       "            background-color:  #b40426;\n",
       "            color:  #f1f1f1;\n",
       "        }    #T_deb27846_72c4_11ea_be44_3c9509ce5eb8row6_col7 {\n",
       "            background-color:  #f7b093;\n",
       "            color:  #000000;\n",
       "        }    #T_deb27846_72c4_11ea_be44_3c9509ce5eb8row6_col8 {\n",
       "            background-color:  #97b8ff;\n",
       "            color:  #000000;\n",
       "        }    #T_deb27846_72c4_11ea_be44_3c9509ce5eb8row6_col9 {\n",
       "            background-color:  #4961d2;\n",
       "            color:  #f1f1f1;\n",
       "        }    #T_deb27846_72c4_11ea_be44_3c9509ce5eb8row7_col0 {\n",
       "            background-color:  #5b7ae5;\n",
       "            color:  #000000;\n",
       "        }    #T_deb27846_72c4_11ea_be44_3c9509ce5eb8row7_col1 {\n",
       "            background-color:  #4f69d9;\n",
       "            color:  #000000;\n",
       "        }    #T_deb27846_72c4_11ea_be44_3c9509ce5eb8row7_col2 {\n",
       "            background-color:  #92b4fe;\n",
       "            color:  #000000;\n",
       "        }    #T_deb27846_72c4_11ea_be44_3c9509ce5eb8row7_col3 {\n",
       "            background-color:  #5f7fe8;\n",
       "            color:  #000000;\n",
       "        }    #T_deb27846_72c4_11ea_be44_3c9509ce5eb8row7_col4 {\n",
       "            background-color:  #4257c9;\n",
       "            color:  #f1f1f1;\n",
       "        }    #T_deb27846_72c4_11ea_be44_3c9509ce5eb8row7_col5 {\n",
       "            background-color:  #4961d2;\n",
       "            color:  #f1f1f1;\n",
       "        }    #T_deb27846_72c4_11ea_be44_3c9509ce5eb8row7_col6 {\n",
       "            background-color:  #f7b599;\n",
       "            color:  #000000;\n",
       "        }    #T_deb27846_72c4_11ea_be44_3c9509ce5eb8row7_col7 {\n",
       "            background-color:  #b40426;\n",
       "            color:  #f1f1f1;\n",
       "        }    #T_deb27846_72c4_11ea_be44_3c9509ce5eb8row7_col8 {\n",
       "            background-color:  #7396f5;\n",
       "            color:  #000000;\n",
       "        }    #T_deb27846_72c4_11ea_be44_3c9509ce5eb8row7_col9 {\n",
       "            background-color:  #3b4cc0;\n",
       "            color:  #f1f1f1;\n",
       "        }    #T_deb27846_72c4_11ea_be44_3c9509ce5eb8row8_col0 {\n",
       "            background-color:  #7b9ff9;\n",
       "            color:  #000000;\n",
       "        }    #T_deb27846_72c4_11ea_be44_3c9509ce5eb8row8_col1 {\n",
       "            background-color:  #5875e1;\n",
       "            color:  #000000;\n",
       "        }    #T_deb27846_72c4_11ea_be44_3c9509ce5eb8row8_col2 {\n",
       "            background-color:  #5572df;\n",
       "            color:  #000000;\n",
       "        }    #T_deb27846_72c4_11ea_be44_3c9509ce5eb8row8_col3 {\n",
       "            background-color:  #688aef;\n",
       "            color:  #000000;\n",
       "        }    #T_deb27846_72c4_11ea_be44_3c9509ce5eb8row8_col4 {\n",
       "            background-color:  #506bda;\n",
       "            color:  #000000;\n",
       "        }    #T_deb27846_72c4_11ea_be44_3c9509ce5eb8row8_col5 {\n",
       "            background-color:  #4358cb;\n",
       "            color:  #f1f1f1;\n",
       "        }    #T_deb27846_72c4_11ea_be44_3c9509ce5eb8row8_col6 {\n",
       "            background-color:  #a5c3fe;\n",
       "            color:  #000000;\n",
       "        }    #T_deb27846_72c4_11ea_be44_3c9509ce5eb8row8_col7 {\n",
       "            background-color:  #92b4fe;\n",
       "            color:  #000000;\n",
       "        }    #T_deb27846_72c4_11ea_be44_3c9509ce5eb8row8_col8 {\n",
       "            background-color:  #b40426;\n",
       "            color:  #f1f1f1;\n",
       "        }    #T_deb27846_72c4_11ea_be44_3c9509ce5eb8row8_col9 {\n",
       "            background-color:  #5a78e4;\n",
       "            color:  #000000;\n",
       "        }    #T_deb27846_72c4_11ea_be44_3c9509ce5eb8row9_col0 {\n",
       "            background-color:  #81a4fb;\n",
       "            color:  #000000;\n",
       "        }    #T_deb27846_72c4_11ea_be44_3c9509ce5eb8row9_col1 {\n",
       "            background-color:  #506bda;\n",
       "            color:  #000000;\n",
       "        }    #T_deb27846_72c4_11ea_be44_3c9509ce5eb8row9_col2 {\n",
       "            background-color:  #445acc;\n",
       "            color:  #f1f1f1;\n",
       "        }    #T_deb27846_72c4_11ea_be44_3c9509ce5eb8row9_col3 {\n",
       "            background-color:  #3b4cc0;\n",
       "            color:  #f1f1f1;\n",
       "        }    #T_deb27846_72c4_11ea_be44_3c9509ce5eb8row9_col4 {\n",
       "            background-color:  #7597f6;\n",
       "            color:  #000000;\n",
       "        }    #T_deb27846_72c4_11ea_be44_3c9509ce5eb8row9_col5 {\n",
       "            background-color:  #7da0f9;\n",
       "            color:  #000000;\n",
       "        }    #T_deb27846_72c4_11ea_be44_3c9509ce5eb8row9_col6 {\n",
       "            background-color:  #3b4cc0;\n",
       "            color:  #f1f1f1;\n",
       "        }    #T_deb27846_72c4_11ea_be44_3c9509ce5eb8row9_col7 {\n",
       "            background-color:  #3b4cc0;\n",
       "            color:  #f1f1f1;\n",
       "        }    #T_deb27846_72c4_11ea_be44_3c9509ce5eb8row9_col8 {\n",
       "            background-color:  #3b4cc0;\n",
       "            color:  #f1f1f1;\n",
       "        }    #T_deb27846_72c4_11ea_be44_3c9509ce5eb8row9_col9 {\n",
       "            background-color:  #b40426;\n",
       "            color:  #f1f1f1;\n",
       "        }</style><table id=\"T_deb27846_72c4_11ea_be44_3c9509ce5eb8\" ><thead>    <tr>        <th class=\"blank level0\" ></th>        <th class=\"col_heading level0 col0\" >Age</th>        <th class=\"col_heading level0 col1\" >Sex</th>        <th class=\"col_heading level0 col2\" >Job</th>        <th class=\"col_heading level0 col3\" >Housing</th>        <th class=\"col_heading level0 col4\" >Saving accounts</th>        <th class=\"col_heading level0 col5\" >Checking account</th>        <th class=\"col_heading level0 col6\" >Credit amount</th>        <th class=\"col_heading level0 col7\" >Duration</th>        <th class=\"col_heading level0 col8\" >Purpose</th>        <th class=\"col_heading level0 col9\" >Risk</th>    </tr></thead><tbody>\n",
       "                <tr>\n",
       "                        <th id=\"T_deb27846_72c4_11ea_be44_3c9509ce5eb8level0_row0\" class=\"row_heading level0 row0\" >Age</th>\n",
       "                        <td id=\"T_deb27846_72c4_11ea_be44_3c9509ce5eb8row0_col0\" class=\"data row0 col0\" >1.000000</td>\n",
       "                        <td id=\"T_deb27846_72c4_11ea_be44_3c9509ce5eb8row0_col1\" class=\"data row0 col1\" >-0.161694</td>\n",
       "                        <td id=\"T_deb27846_72c4_11ea_be44_3c9509ce5eb8row0_col2\" class=\"data row0 col2\" >0.015673</td>\n",
       "                        <td id=\"T_deb27846_72c4_11ea_be44_3c9509ce5eb8row0_col3\" class=\"data row0 col3\" >-0.108437</td>\n",
       "                        <td id=\"T_deb27846_72c4_11ea_be44_3c9509ce5eb8row0_col4\" class=\"data row0 col4\" >0.033657</td>\n",
       "                        <td id=\"T_deb27846_72c4_11ea_be44_3c9509ce5eb8row0_col5\" class=\"data row0 col5\" >0.006755</td>\n",
       "                        <td id=\"T_deb27846_72c4_11ea_be44_3c9509ce5eb8row0_col6\" class=\"data row0 col6\" >0.032716</td>\n",
       "                        <td id=\"T_deb27846_72c4_11ea_be44_3c9509ce5eb8row0_col7\" class=\"data row0 col7\" >-0.036136</td>\n",
       "                        <td id=\"T_deb27846_72c4_11ea_be44_3c9509ce5eb8row0_col8\" class=\"data row0 col8\" >0.071069</td>\n",
       "                        <td id=\"T_deb27846_72c4_11ea_be44_3c9509ce5eb8row0_col9\" class=\"data row0 col9\" >0.091127</td>\n",
       "            </tr>\n",
       "            <tr>\n",
       "                        <th id=\"T_deb27846_72c4_11ea_be44_3c9509ce5eb8level0_row1\" class=\"row_heading level0 row1\" >Sex</th>\n",
       "                        <td id=\"T_deb27846_72c4_11ea_be44_3c9509ce5eb8row1_col0\" class=\"data row1 col0\" >-0.161694</td>\n",
       "                        <td id=\"T_deb27846_72c4_11ea_be44_3c9509ce5eb8row1_col1\" class=\"data row1 col1\" >1.000000</td>\n",
       "                        <td id=\"T_deb27846_72c4_11ea_be44_3c9509ce5eb8row1_col2\" class=\"data row1 col2\" >-0.070298</td>\n",
       "                        <td id=\"T_deb27846_72c4_11ea_be44_3c9509ce5eb8row1_col3\" class=\"data row1 col3\" >0.179137</td>\n",
       "                        <td id=\"T_deb27846_72c4_11ea_be44_3c9509ce5eb8row1_col4\" class=\"data row1 col4\" >0.005069</td>\n",
       "                        <td id=\"T_deb27846_72c4_11ea_be44_3c9509ce5eb8row1_col5\" class=\"data row1 col5\" >-0.001904</td>\n",
       "                        <td id=\"T_deb27846_72c4_11ea_be44_3c9509ce5eb8row1_col6\" class=\"data row1 col6\" >-0.093482</td>\n",
       "                        <td id=\"T_deb27846_72c4_11ea_be44_3c9509ce5eb8row1_col7\" class=\"data row1 col7\" >-0.081432</td>\n",
       "                        <td id=\"T_deb27846_72c4_11ea_be44_3c9509ce5eb8row1_col8\" class=\"data row1 col8\" >-0.051436</td>\n",
       "                        <td id=\"T_deb27846_72c4_11ea_be44_3c9509ce5eb8row1_col9\" class=\"data row1 col9\" >-0.075493</td>\n",
       "            </tr>\n",
       "            <tr>\n",
       "                        <th id=\"T_deb27846_72c4_11ea_be44_3c9509ce5eb8level0_row2\" class=\"row_heading level0 row2\" >Job</th>\n",
       "                        <td id=\"T_deb27846_72c4_11ea_be44_3c9509ce5eb8row2_col0\" class=\"data row2 col0\" >0.015673</td>\n",
       "                        <td id=\"T_deb27846_72c4_11ea_be44_3c9509ce5eb8row2_col1\" class=\"data row2 col1\" >-0.070298</td>\n",
       "                        <td id=\"T_deb27846_72c4_11ea_be44_3c9509ce5eb8row2_col2\" class=\"data row2 col2\" >1.000000</td>\n",
       "                        <td id=\"T_deb27846_72c4_11ea_be44_3c9509ce5eb8row2_col3\" class=\"data row2 col3\" >0.015201</td>\n",
       "                        <td id=\"T_deb27846_72c4_11ea_be44_3c9509ce5eb8row2_col4\" class=\"data row2 col4\" >-0.028725</td>\n",
       "                        <td id=\"T_deb27846_72c4_11ea_be44_3c9509ce5eb8row2_col5\" class=\"data row2 col5\" >-0.018230</td>\n",
       "                        <td id=\"T_deb27846_72c4_11ea_be44_3c9509ce5eb8row2_col6\" class=\"data row2 col6\" >0.285385</td>\n",
       "                        <td id=\"T_deb27846_72c4_11ea_be44_3c9509ce5eb8row2_col7\" class=\"data row2 col7\" >0.210910</td>\n",
       "                        <td id=\"T_deb27846_72c4_11ea_be44_3c9509ce5eb8row2_col8\" class=\"data row2 col8\" >0.024629</td>\n",
       "                        <td id=\"T_deb27846_72c4_11ea_be44_3c9509ce5eb8row2_col9\" class=\"data row2 col9\" >-0.032735</td>\n",
       "            </tr>\n",
       "            <tr>\n",
       "                        <th id=\"T_deb27846_72c4_11ea_be44_3c9509ce5eb8level0_row3\" class=\"row_heading level0 row3\" >Housing</th>\n",
       "                        <td id=\"T_deb27846_72c4_11ea_be44_3c9509ce5eb8row3_col0\" class=\"data row3 col0\" >-0.108437</td>\n",
       "                        <td id=\"T_deb27846_72c4_11ea_be44_3c9509ce5eb8row3_col1\" class=\"data row3 col1\" >0.179137</td>\n",
       "                        <td id=\"T_deb27846_72c4_11ea_be44_3c9509ce5eb8row3_col2\" class=\"data row3 col2\" >0.015201</td>\n",
       "                        <td id=\"T_deb27846_72c4_11ea_be44_3c9509ce5eb8row3_col3\" class=\"data row3 col3\" >1.000000</td>\n",
       "                        <td id=\"T_deb27846_72c4_11ea_be44_3c9509ce5eb8row3_col4\" class=\"data row3 col4\" >-0.001403</td>\n",
       "                        <td id=\"T_deb27846_72c4_11ea_be44_3c9509ce5eb8row3_col5\" class=\"data row3 col5\" >-0.085714</td>\n",
       "                        <td id=\"T_deb27846_72c4_11ea_be44_3c9509ce5eb8row3_col6\" class=\"data row3 col6\" >0.056119</td>\n",
       "                        <td id=\"T_deb27846_72c4_11ea_be44_3c9509ce5eb8row3_col7\" class=\"data row3 col7\" >0.011950</td>\n",
       "                        <td id=\"T_deb27846_72c4_11ea_be44_3c9509ce5eb8row3_col8\" class=\"data row3 col8\" >0.041964</td>\n",
       "                        <td id=\"T_deb27846_72c4_11ea_be44_3c9509ce5eb8row3_col9\" class=\"data row3 col9\" >-0.123815</td>\n",
       "            </tr>\n",
       "            <tr>\n",
       "                        <th id=\"T_deb27846_72c4_11ea_be44_3c9509ce5eb8level0_row4\" class=\"row_heading level0 row4\" >Saving accounts</th>\n",
       "                        <td id=\"T_deb27846_72c4_11ea_be44_3c9509ce5eb8row4_col0\" class=\"data row4 col0\" >0.033657</td>\n",
       "                        <td id=\"T_deb27846_72c4_11ea_be44_3c9509ce5eb8row4_col1\" class=\"data row4 col1\" >0.005069</td>\n",
       "                        <td id=\"T_deb27846_72c4_11ea_be44_3c9509ce5eb8row4_col2\" class=\"data row4 col2\" >-0.028725</td>\n",
       "                        <td id=\"T_deb27846_72c4_11ea_be44_3c9509ce5eb8row4_col3\" class=\"data row4 col3\" >-0.001403</td>\n",
       "                        <td id=\"T_deb27846_72c4_11ea_be44_3c9509ce5eb8row4_col4\" class=\"data row4 col4\" >1.000000</td>\n",
       "                        <td id=\"T_deb27846_72c4_11ea_be44_3c9509ce5eb8row4_col5\" class=\"data row4 col5\" >0.106671</td>\n",
       "                        <td id=\"T_deb27846_72c4_11ea_be44_3c9509ce5eb8row4_col6\" class=\"data row4 col6\" >-0.055923</td>\n",
       "                        <td id=\"T_deb27846_72c4_11ea_be44_3c9509ce5eb8row4_col7\" class=\"data row4 col7\" >-0.028352</td>\n",
       "                        <td id=\"T_deb27846_72c4_11ea_be44_3c9509ce5eb8row4_col8\" class=\"data row4 col8\" >0.021677</td>\n",
       "                        <td id=\"T_deb27846_72c4_11ea_be44_3c9509ce5eb8row4_col9\" class=\"data row4 col9\" >0.134367</td>\n",
       "            </tr>\n",
       "            <tr>\n",
       "                        <th id=\"T_deb27846_72c4_11ea_be44_3c9509ce5eb8level0_row5\" class=\"row_heading level0 row5\" >Checking account</th>\n",
       "                        <td id=\"T_deb27846_72c4_11ea_be44_3c9509ce5eb8row5_col0\" class=\"data row5 col0\" >0.006755</td>\n",
       "                        <td id=\"T_deb27846_72c4_11ea_be44_3c9509ce5eb8row5_col1\" class=\"data row5 col1\" >-0.001904</td>\n",
       "                        <td id=\"T_deb27846_72c4_11ea_be44_3c9509ce5eb8row5_col2\" class=\"data row5 col2\" >-0.018230</td>\n",
       "                        <td id=\"T_deb27846_72c4_11ea_be44_3c9509ce5eb8row5_col3\" class=\"data row5 col3\" >-0.085714</td>\n",
       "                        <td id=\"T_deb27846_72c4_11ea_be44_3c9509ce5eb8row5_col4\" class=\"data row5 col4\" >0.106671</td>\n",
       "                        <td id=\"T_deb27846_72c4_11ea_be44_3c9509ce5eb8row5_col5\" class=\"data row5 col5\" >1.000000</td>\n",
       "                        <td id=\"T_deb27846_72c4_11ea_be44_3c9509ce5eb8row5_col6\" class=\"data row5 col6\" >-0.016315</td>\n",
       "                        <td id=\"T_deb27846_72c4_11ea_be44_3c9509ce5eb8row5_col7\" class=\"data row5 col7\" >-0.034477</td>\n",
       "                        <td id=\"T_deb27846_72c4_11ea_be44_3c9509ce5eb8row5_col8\" class=\"data row5 col8\" >-0.055309</td>\n",
       "                        <td id=\"T_deb27846_72c4_11ea_be44_3c9509ce5eb8row5_col9\" class=\"data row5 col9\" >0.138411</td>\n",
       "            </tr>\n",
       "            <tr>\n",
       "                        <th id=\"T_deb27846_72c4_11ea_be44_3c9509ce5eb8level0_row6\" class=\"row_heading level0 row6\" >Credit amount</th>\n",
       "                        <td id=\"T_deb27846_72c4_11ea_be44_3c9509ce5eb8row6_col0\" class=\"data row6 col0\" >0.032716</td>\n",
       "                        <td id=\"T_deb27846_72c4_11ea_be44_3c9509ce5eb8row6_col1\" class=\"data row6 col1\" >-0.093482</td>\n",
       "                        <td id=\"T_deb27846_72c4_11ea_be44_3c9509ce5eb8row6_col2\" class=\"data row6 col2\" >0.285385</td>\n",
       "                        <td id=\"T_deb27846_72c4_11ea_be44_3c9509ce5eb8row6_col3\" class=\"data row6 col3\" >0.056119</td>\n",
       "                        <td id=\"T_deb27846_72c4_11ea_be44_3c9509ce5eb8row6_col4\" class=\"data row6 col4\" >-0.055923</td>\n",
       "                        <td id=\"T_deb27846_72c4_11ea_be44_3c9509ce5eb8row6_col5\" class=\"data row6 col5\" >-0.016315</td>\n",
       "                        <td id=\"T_deb27846_72c4_11ea_be44_3c9509ce5eb8row6_col6\" class=\"data row6 col6\" >1.000000</td>\n",
       "                        <td id=\"T_deb27846_72c4_11ea_be44_3c9509ce5eb8row6_col7\" class=\"data row6 col7\" >0.624984</td>\n",
       "                        <td id=\"T_deb27846_72c4_11ea_be44_3c9509ce5eb8row6_col8\" class=\"data row6 col8\" >0.214513</td>\n",
       "                        <td id=\"T_deb27846_72c4_11ea_be44_3c9509ce5eb8row6_col9\" class=\"data row6 col9\" >-0.154739</td>\n",
       "            </tr>\n",
       "            <tr>\n",
       "                        <th id=\"T_deb27846_72c4_11ea_be44_3c9509ce5eb8level0_row7\" class=\"row_heading level0 row7\" >Duration</th>\n",
       "                        <td id=\"T_deb27846_72c4_11ea_be44_3c9509ce5eb8row7_col0\" class=\"data row7 col0\" >-0.036136</td>\n",
       "                        <td id=\"T_deb27846_72c4_11ea_be44_3c9509ce5eb8row7_col1\" class=\"data row7 col1\" >-0.081432</td>\n",
       "                        <td id=\"T_deb27846_72c4_11ea_be44_3c9509ce5eb8row7_col2\" class=\"data row7 col2\" >0.210910</td>\n",
       "                        <td id=\"T_deb27846_72c4_11ea_be44_3c9509ce5eb8row7_col3\" class=\"data row7 col3\" >0.011950</td>\n",
       "                        <td id=\"T_deb27846_72c4_11ea_be44_3c9509ce5eb8row7_col4\" class=\"data row7 col4\" >-0.028352</td>\n",
       "                        <td id=\"T_deb27846_72c4_11ea_be44_3c9509ce5eb8row7_col5\" class=\"data row7 col5\" >-0.034477</td>\n",
       "                        <td id=\"T_deb27846_72c4_11ea_be44_3c9509ce5eb8row7_col6\" class=\"data row7 col6\" >0.624984</td>\n",
       "                        <td id=\"T_deb27846_72c4_11ea_be44_3c9509ce5eb8row7_col7\" class=\"data row7 col7\" >1.000000</td>\n",
       "                        <td id=\"T_deb27846_72c4_11ea_be44_3c9509ce5eb8row7_col8\" class=\"data row7 col8\" >0.105524</td>\n",
       "                        <td id=\"T_deb27846_72c4_11ea_be44_3c9509ce5eb8row7_col9\" class=\"data row7 col9\" >-0.214927</td>\n",
       "            </tr>\n",
       "            <tr>\n",
       "                        <th id=\"T_deb27846_72c4_11ea_be44_3c9509ce5eb8level0_row8\" class=\"row_heading level0 row8\" >Purpose</th>\n",
       "                        <td id=\"T_deb27846_72c4_11ea_be44_3c9509ce5eb8row8_col0\" class=\"data row8 col0\" >0.071069</td>\n",
       "                        <td id=\"T_deb27846_72c4_11ea_be44_3c9509ce5eb8row8_col1\" class=\"data row8 col1\" >-0.051436</td>\n",
       "                        <td id=\"T_deb27846_72c4_11ea_be44_3c9509ce5eb8row8_col2\" class=\"data row8 col2\" >0.024629</td>\n",
       "                        <td id=\"T_deb27846_72c4_11ea_be44_3c9509ce5eb8row8_col3\" class=\"data row8 col3\" >0.041964</td>\n",
       "                        <td id=\"T_deb27846_72c4_11ea_be44_3c9509ce5eb8row8_col4\" class=\"data row8 col4\" >0.021677</td>\n",
       "                        <td id=\"T_deb27846_72c4_11ea_be44_3c9509ce5eb8row8_col5\" class=\"data row8 col5\" >-0.055309</td>\n",
       "                        <td id=\"T_deb27846_72c4_11ea_be44_3c9509ce5eb8row8_col6\" class=\"data row8 col6\" >0.214513</td>\n",
       "                        <td id=\"T_deb27846_72c4_11ea_be44_3c9509ce5eb8row8_col7\" class=\"data row8 col7\" >0.105524</td>\n",
       "                        <td id=\"T_deb27846_72c4_11ea_be44_3c9509ce5eb8row8_col8\" class=\"data row8 col8\" >1.000000</td>\n",
       "                        <td id=\"T_deb27846_72c4_11ea_be44_3c9509ce5eb8row8_col9\" class=\"data row8 col9\" >-0.090001</td>\n",
       "            </tr>\n",
       "            <tr>\n",
       "                        <th id=\"T_deb27846_72c4_11ea_be44_3c9509ce5eb8level0_row9\" class=\"row_heading level0 row9\" >Risk</th>\n",
       "                        <td id=\"T_deb27846_72c4_11ea_be44_3c9509ce5eb8row9_col0\" class=\"data row9 col0\" >0.091127</td>\n",
       "                        <td id=\"T_deb27846_72c4_11ea_be44_3c9509ce5eb8row9_col1\" class=\"data row9 col1\" >-0.075493</td>\n",
       "                        <td id=\"T_deb27846_72c4_11ea_be44_3c9509ce5eb8row9_col2\" class=\"data row9 col2\" >-0.032735</td>\n",
       "                        <td id=\"T_deb27846_72c4_11ea_be44_3c9509ce5eb8row9_col3\" class=\"data row9 col3\" >-0.123815</td>\n",
       "                        <td id=\"T_deb27846_72c4_11ea_be44_3c9509ce5eb8row9_col4\" class=\"data row9 col4\" >0.134367</td>\n",
       "                        <td id=\"T_deb27846_72c4_11ea_be44_3c9509ce5eb8row9_col5\" class=\"data row9 col5\" >0.138411</td>\n",
       "                        <td id=\"T_deb27846_72c4_11ea_be44_3c9509ce5eb8row9_col6\" class=\"data row9 col6\" >-0.154739</td>\n",
       "                        <td id=\"T_deb27846_72c4_11ea_be44_3c9509ce5eb8row9_col7\" class=\"data row9 col7\" >-0.214927</td>\n",
       "                        <td id=\"T_deb27846_72c4_11ea_be44_3c9509ce5eb8row9_col8\" class=\"data row9 col8\" >-0.090001</td>\n",
       "                        <td id=\"T_deb27846_72c4_11ea_be44_3c9509ce5eb8row9_col9\" class=\"data row9 col9\" >1.000000</td>\n",
       "            </tr>\n",
       "    </tbody></table>"
      ],
      "text/plain": [
       "<pandas.io.formats.style.Styler at 0x1dfe7f80c88>"
      ]
     },
     "execution_count": 24,
     "metadata": {},
     "output_type": "execute_result"
    }
   ],
   "source": [
    "import numpy as np\n",
    "corr_matrix  = credit.corr()\n",
    "np.zeros_like(corr_matrix)\n",
    "np.zeros_like(corr_matrix, dtype=np.bool) \n",
    "mask = np.zeros_like(corr_matrix, dtype=np.bool)\n",
    "\n",
    "np.triu_indices_from(mask) \n",
    "mask[np.triu_indices_from(mask)]= True\n",
    "corr_matrix.style.background_gradient(cmap='coolwarm')"
   ]
  },
  {
   "cell_type": "markdown",
   "metadata": {},
   "source": [
    "PCA"
   ]
  },
  {
   "cell_type": "code",
   "execution_count": 25,
   "metadata": {},
   "outputs": [
    {
     "data": {
      "text/plain": [
       "(1000, 2)"
      ]
     },
     "execution_count": 25,
     "metadata": {},
     "output_type": "execute_result"
    }
   ],
   "source": [
    "from sklearn.cluster import KMeans;\n",
    "from sklearn.decomposition import PCA; \n",
    "from sklearn.preprocessing import normalize;\n",
    "y = KMeans().fit_predict(credit)\n",
    "X_norm = normalize(credit);\n",
    "y_PCA = PCA(n_components=2).fit_transform(X_norm,2);\n",
    "y_PCA.shape"
   ]
  },
  {
   "cell_type": "code",
   "execution_count": 26,
   "metadata": {},
   "outputs": [
    {
     "data": {
      "text/plain": [
       "<matplotlib.collections.PathCollection at 0x1dfe9330e88>"
      ]
     },
     "execution_count": 26,
     "metadata": {},
     "output_type": "execute_result"
    },
    {
     "data": {
      "image/png": "[encoded data removed]",
      "text/plain": [
       "<Figure size 432x288 with 1 Axes>"
      ]
     },
     "metadata": {
      "needs_background": "light"
     },
     "output_type": "display_data"
    },
    {
     "data": {
      "image/png": "[encoded data removed]",
      "text/plain": [
       "<Figure size 432x288 with 1 Axes>"
      ]
     },
     "metadata": {
      "needs_background": "light"
     },
     "output_type": "display_data"
    }
   ],
   "source": [
    "plt.scatter(credit['Credit amount'],credit['Age'],c=y)\n",
    "plt.figure()\n",
    "plt.scatter(y_PCA[:,0],y_PCA[:,1],c=y)"
   ]
  },
  {
   "cell_type": "markdown",
   "metadata": {},
   "source": [
    "Selecting the data"
   ]
  },
  {
   "cell_type": "code",
   "execution_count": 27,
   "metadata": {},
   "outputs": [
    {
     "name": "stdout",
     "output_type": "stream",
     "text": [
      "Summary of feature sample\n"
     ]
    },
    {
     "data": {
      "text/html": [
       "<div>\n",
       "<style scoped>\n",
       "    .dataframe tbody tr th:only-of-type {\n",
       "        vertical-align: middle;\n",
       "    }\n",
       "\n",
       "    .dataframe tbody tr th {\n",
       "        vertical-align: top;\n",
       "    }\n",
       "\n",
       "    .dataframe thead th {\n",
       "        text-align: right;\n",
       "    }\n",
       "</style>\n",
       "<table border=\"1\" class=\"dataframe\">\n",
       "  <thead>\n",
       "    <tr style=\"text-align: right;\">\n",
       "      <th></th>\n",
       "      <th>Sex</th>\n",
       "      <th>Job</th>\n",
       "      <th>Housing</th>\n",
       "      <th>Saving accounts</th>\n",
       "      <th>Checking account</th>\n",
       "      <th>Credit amount</th>\n",
       "      <th>Duration</th>\n",
       "      <th>Purpose</th>\n",
       "    </tr>\n",
       "  </thead>\n",
       "  <tbody>\n",
       "    <tr>\n",
       "      <th>0</th>\n",
       "      <td>0.0</td>\n",
       "      <td>2</td>\n",
       "      <td>0.0</td>\n",
       "      <td>0.456548</td>\n",
       "      <td>0.000000</td>\n",
       "      <td>1169</td>\n",
       "      <td>6</td>\n",
       "      <td>0.0</td>\n",
       "    </tr>\n",
       "    <tr>\n",
       "      <th>1</th>\n",
       "      <td>1.0</td>\n",
       "      <td>2</td>\n",
       "      <td>0.0</td>\n",
       "      <td>0.000000</td>\n",
       "      <td>1.000000</td>\n",
       "      <td>5951</td>\n",
       "      <td>48</td>\n",
       "      <td>0.0</td>\n",
       "    </tr>\n",
       "    <tr>\n",
       "      <th>2</th>\n",
       "      <td>0.0</td>\n",
       "      <td>1</td>\n",
       "      <td>0.0</td>\n",
       "      <td>0.000000</td>\n",
       "      <td>0.651815</td>\n",
       "      <td>2096</td>\n",
       "      <td>12</td>\n",
       "      <td>1.0</td>\n",
       "    </tr>\n",
       "    <tr>\n",
       "      <th>3</th>\n",
       "      <td>0.0</td>\n",
       "      <td>2</td>\n",
       "      <td>1.0</td>\n",
       "      <td>0.000000</td>\n",
       "      <td>0.000000</td>\n",
       "      <td>7882</td>\n",
       "      <td>42</td>\n",
       "      <td>2.0</td>\n",
       "    </tr>\n",
       "    <tr>\n",
       "      <th>4</th>\n",
       "      <td>0.0</td>\n",
       "      <td>2</td>\n",
       "      <td>1.0</td>\n",
       "      <td>0.000000</td>\n",
       "      <td>0.000000</td>\n",
       "      <td>4870</td>\n",
       "      <td>24</td>\n",
       "      <td>3.0</td>\n",
       "    </tr>\n",
       "  </tbody>\n",
       "</table>\n",
       "</div>"
      ],
      "text/plain": [
       "   Sex  Job  Housing  Saving accounts  Checking account  Credit amount  \\\n",
       "0  0.0    2      0.0         0.456548          0.000000           1169   \n",
       "1  1.0    2      0.0         0.000000          1.000000           5951   \n",
       "2  0.0    1      0.0         0.000000          0.651815           2096   \n",
       "3  0.0    2      1.0         0.000000          0.000000           7882   \n",
       "4  0.0    2      1.0         0.000000          0.000000           4870   \n",
       "\n",
       "   Duration  Purpose  \n",
       "0         6      0.0  \n",
       "1        48      0.0  \n",
       "2        12      1.0  \n",
       "3        42      2.0  \n",
       "4        24      3.0  "
      ]
     },
     "execution_count": 27,
     "metadata": {},
     "output_type": "execute_result"
    }
   ],
   "source": [
    "#features\n",
    "features = credit.iloc[:,1:9]\n",
    "print('Summary of feature sample')\n",
    "features.head()"
   ]
  },
  {
   "cell_type": "code",
   "execution_count": 28,
   "metadata": {},
   "outputs": [],
   "source": [
    "#dependent variable\n",
    "depVar = credit['Risk']"
   ]
  },
  {
   "cell_type": "code",
   "execution_count": 29,
   "metadata": {},
   "outputs": [
    {
     "data": {
      "text/html": [
       "<div>\n",
       "<style scoped>\n",
       "    .dataframe tbody tr th:only-of-type {\n",
       "        vertical-align: middle;\n",
       "    }\n",
       "\n",
       "    .dataframe tbody tr th {\n",
       "        vertical-align: top;\n",
       "    }\n",
       "\n",
       "    .dataframe thead th {\n",
       "        text-align: right;\n",
       "    }\n",
       "</style>\n",
       "<table border=\"1\" class=\"dataframe\">\n",
       "  <thead>\n",
       "    <tr style=\"text-align: right;\">\n",
       "      <th></th>\n",
       "      <th>Sex</th>\n",
       "      <th>Job</th>\n",
       "      <th>Housing</th>\n",
       "      <th>Saving accounts</th>\n",
       "      <th>Checking account</th>\n",
       "      <th>Credit amount</th>\n",
       "      <th>Duration</th>\n",
       "      <th>Purpose</th>\n",
       "    </tr>\n",
       "  </thead>\n",
       "  <tbody>\n",
       "    <tr>\n",
       "      <th>0</th>\n",
       "      <td>0.0</td>\n",
       "      <td>2</td>\n",
       "      <td>0.0</td>\n",
       "      <td>0.456548</td>\n",
       "      <td>0.000000</td>\n",
       "      <td>1169</td>\n",
       "      <td>6</td>\n",
       "      <td>0.0</td>\n",
       "    </tr>\n",
       "    <tr>\n",
       "      <th>1</th>\n",
       "      <td>1.0</td>\n",
       "      <td>2</td>\n",
       "      <td>0.0</td>\n",
       "      <td>0.000000</td>\n",
       "      <td>1.000000</td>\n",
       "      <td>5951</td>\n",
       "      <td>48</td>\n",
       "      <td>0.0</td>\n",
       "    </tr>\n",
       "    <tr>\n",
       "      <th>2</th>\n",
       "      <td>0.0</td>\n",
       "      <td>1</td>\n",
       "      <td>0.0</td>\n",
       "      <td>0.000000</td>\n",
       "      <td>0.651815</td>\n",
       "      <td>2096</td>\n",
       "      <td>12</td>\n",
       "      <td>1.0</td>\n",
       "    </tr>\n",
       "    <tr>\n",
       "      <th>3</th>\n",
       "      <td>0.0</td>\n",
       "      <td>2</td>\n",
       "      <td>1.0</td>\n",
       "      <td>0.000000</td>\n",
       "      <td>0.000000</td>\n",
       "      <td>7882</td>\n",
       "      <td>42</td>\n",
       "      <td>2.0</td>\n",
       "    </tr>\n",
       "    <tr>\n",
       "      <th>4</th>\n",
       "      <td>0.0</td>\n",
       "      <td>2</td>\n",
       "      <td>1.0</td>\n",
       "      <td>0.000000</td>\n",
       "      <td>0.000000</td>\n",
       "      <td>4870</td>\n",
       "      <td>24</td>\n",
       "      <td>3.0</td>\n",
       "    </tr>\n",
       "  </tbody>\n",
       "</table>\n",
       "</div>"
      ],
      "text/plain": [
       "   Sex  Job  Housing  Saving accounts  Checking account  Credit amount  \\\n",
       "0  0.0    2      0.0         0.456548          0.000000           1169   \n",
       "1  1.0    2      0.0         0.000000          1.000000           5951   \n",
       "2  0.0    1      0.0         0.000000          0.651815           2096   \n",
       "3  0.0    2      1.0         0.000000          0.000000           7882   \n",
       "4  0.0    2      1.0         0.000000          0.000000           4870   \n",
       "\n",
       "   Duration  Purpose  \n",
       "0         6      0.0  \n",
       "1        48      0.0  \n",
       "2        12      1.0  \n",
       "3        42      2.0  \n",
       "4        24      3.0  "
      ]
     },
     "execution_count": 29,
     "metadata": {},
     "output_type": "execute_result"
    }
   ],
   "source": [
    "#Training Set (Feature Space: X Training)\n",
    "X_train = (features[: 750])\n",
    "X_train.head()"
   ]
  },
  {
   "cell_type": "code",
   "execution_count": 30,
   "metadata": {},
   "outputs": [
    {
     "name": "stdout",
     "output_type": "stream",
     "text": [
      "The number of observations in the Y training set are: 750\n"
     ]
    },
    {
     "data": {
      "text/plain": [
       "0    1.0\n",
       "1    0.0\n",
       "2    1.0\n",
       "3    1.0\n",
       "4    0.0\n",
       "Name: Risk, dtype: float64"
      ]
     },
     "execution_count": 30,
     "metadata": {},
     "output_type": "execute_result"
    }
   ],
   "source": [
    "#Dependent Variable Training Set (y Training)\n",
    "y_train = depVar[: 750]\n",
    "y_train_count = len(y_train.index)\n",
    "print('The number of observations in the Y training set are:',str(y_train_count))\n",
    "y_train.head()"
   ]
  },
  {
   "cell_type": "code",
   "execution_count": 31,
   "metadata": {},
   "outputs": [
    {
     "name": "stdout",
     "output_type": "stream",
     "text": [
      "The number of observations in the feature testing set is: 250\n",
      "     Sex  Job  Housing  Saving accounts  Checking account  Credit amount  \\\n",
      "750  1.0    2      0.0              0.0          0.000000            428   \n",
      "751  1.0    1      0.0              0.0          0.000000            976   \n",
      "752  1.0    1      2.0              1.0          1.000000            841   \n",
      "753  1.0    2      0.0              0.0          0.651815           5771   \n",
      "754  0.0    2      1.0              3.0          0.651815           1555   \n",
      "\n",
      "     Duration  Purpose  \n",
      "750         6      2.0  \n",
      "751        18      3.0  \n",
      "752        12      4.0  \n",
      "753        30      0.0  \n",
      "754        12      6.0  \n"
     ]
    }
   ],
   "source": [
    "#Testing Set (X Testing)\n",
    "X_test = features[-250:]\n",
    "X_test_count = len(X_test.index)\n",
    "print('The number of observations in the feature testing set is:',str(X_test_count))\n",
    "print(X_test.head())"
   ]
  },
  {
   "cell_type": "code",
   "execution_count": 32,
   "metadata": {},
   "outputs": [
    {
     "name": "stdout",
     "output_type": "stream",
     "text": [
      "The number of observations in the Y training set are: 250\n"
     ]
    },
    {
     "data": {
      "text/plain": [
       "750    1.0\n",
       "751    0.0\n",
       "752    1.0\n",
       "753    1.0\n",
       "754    0.0\n",
       "Name: Risk, dtype: float64"
      ]
     },
     "execution_count": 32,
     "metadata": {},
     "output_type": "execute_result"
    }
   ],
   "source": [
    "#Ground Truth (y_test) \n",
    "y_test = depVar[-250:]\n",
    "y_test_count = len(y_test.index)\n",
    "print('The number of observations in the Y training set are:',str(y_test_count))\n",
    "y_test.head()"
   ]
  },
  {
   "cell_type": "markdown",
   "metadata": {},
   "source": [
    "Models\n"
   ]
  },
  {
   "cell_type": "code",
   "execution_count": 33,
   "metadata": {},
   "outputs": [],
   "source": [
    "#imports\n",
    "#numpy,pandas,scipy, math, matplotlib\n",
    "import numpy as np\n",
    "import pandas as pd\n",
    "import scipy\n",
    "from math import sqrt\n",
    "import matplotlib.pyplot as plt"
   ]
  },
  {
   "cell_type": "code",
   "execution_count": 34,
   "metadata": {},
   "outputs": [],
   "source": [
    "#estimators\n",
    "from sklearn.ensemble import RandomForestRegressor\n",
    "from sklearn.linear_model import LinearRegression\n",
    "from sklearn.svm import SVR\n",
    "from sklearn import linear_model\n",
    "from sklearn.ensemble import GradientBoostingClassifier\n"
   ]
  },
  {
   "cell_type": "code",
   "execution_count": 35,
   "metadata": {},
   "outputs": [],
   "source": [
    "#model metrics\n",
    "from sklearn.metrics import mean_squared_error\n",
    "from sklearn.metrics import r2_score\n",
    "from sklearn.model_selection import cross_val_score"
   ]
  },
  {
   "cell_type": "code",
   "execution_count": 36,
   "metadata": {},
   "outputs": [],
   "source": [
    "#cross validation\n",
    "from sklearn.model_selection import train_test_split"
   ]
  },
  {
   "cell_type": "code",
   "execution_count": 37,
   "metadata": {},
   "outputs": [],
   "source": [
    "#Models\n",
    "modelSVR = SVR()\n",
    "modelRF = RandomForestRegressor()\n",
    "modelLR = LinearRegression()\n",
    "modelGB = GradientBoostingClassifier()"
   ]
  },
  {
   "cell_type": "code",
   "execution_count": 38,
   "metadata": {},
   "outputs": [
    {
     "data": {
      "text/plain": [
       "LinearRegression(copy_X=True, fit_intercept=True, n_jobs=None, normalize=False)"
      ]
     },
     "execution_count": 38,
     "metadata": {},
     "output_type": "execute_result"
    }
   ],
   "source": [
    "modelRF.fit(X_train,y_train)\n",
    "modelSVR.fit(X_train,y_train)\n",
    "modelLR.fit(X_train,y_train)\n"
   ]
  },
  {
   "cell_type": "code",
   "execution_count": 39,
   "metadata": {},
   "outputs": [
    {
     "name": "stdout",
     "output_type": "stream",
     "text": [
      "[ 0.05192896  0.08043577  0.11497427  0.06743241 -0.04077237]\n"
     ]
    }
   ],
   "source": [
    "print(cross_val_score(modelRF, X_train, y_train)) "
   ]
  },
  {
   "cell_type": "code",
   "execution_count": 40,
   "metadata": {},
   "outputs": [
    {
     "name": "stdout",
     "output_type": "stream",
     "text": [
      "[ 0.01812246  0.10830689  0.13097449  0.08872593 -0.06098976]\n"
     ]
    },
    {
     "data": {
      "text/plain": [
       "0.8696490414479114"
      ]
     },
     "execution_count": 40,
     "metadata": {},
     "output_type": "execute_result"
    }
   ],
   "source": [
    "#Model Fitting\n",
    "modelRF.fit(X_train,y_train)\n",
    "print(cross_val_score(modelRF, X_train, y_train))\n",
    "modelRF.score(X_train,y_train)"
   ]
  },
  {
   "cell_type": "code",
   "execution_count": 41,
   "metadata": {},
   "outputs": [
    {
     "name": "stdout",
     "output_type": "stream",
     "text": [
      "[ 0.000629   -0.11766543 -0.10061025 -0.26306209 -0.24770503]\n"
     ]
    },
    {
     "data": {
      "text/plain": [
       "-0.13546370442754907"
      ]
     },
     "execution_count": 41,
     "metadata": {},
     "output_type": "execute_result"
    }
   ],
   "source": [
    "modelSVR.fit(X_train,y_train)\n",
    "print(cross_val_score(modelSVR, X_train, y_train)) \n",
    "modelSVR.score(X_train,y_train)"
   ]
  },
  {
   "cell_type": "code",
   "execution_count": 42,
   "metadata": {},
   "outputs": [
    {
     "name": "stdout",
     "output_type": "stream",
     "text": [
      "[0.09706272 0.0607055  0.03905214 0.0620993  0.01292877]\n"
     ]
    },
    {
     "data": {
      "text/plain": [
       "0.08830344326130724"
      ]
     },
     "execution_count": 42,
     "metadata": {},
     "output_type": "execute_result"
    }
   ],
   "source": [
    "modelLR.fit(X_train,y_train)\n",
    "print(cross_val_score(modelLR, X_train, y_train)) \n",
    "modelLR.score(X_train,y_train)"
   ]
  },
  {
   "cell_type": "code",
   "execution_count": 43,
   "metadata": {},
   "outputs": [
    {
     "name": "stdout",
     "output_type": "stream",
     "text": [
      "[0.76       0.71333333 0.76666667 0.75333333 0.78      ]\n"
     ]
    },
    {
     "data": {
      "text/plain": [
       "0.8613333333333333"
      ]
     },
     "execution_count": 43,
     "metadata": {},
     "output_type": "execute_result"
    }
   ],
   "source": [
    "modelGB.fit(X_train,y_train)\n",
    "print(cross_val_score(modelGB, X_train, y_train)) \n",
    "modelGB.score(X_train,y_train)"
   ]
  },
  {
   "cell_type": "markdown",
   "metadata": {},
   "source": [
    "Test the MODEL"
   ]
  },
  {
   "cell_type": "code",
   "execution_count": 44,
   "metadata": {},
   "outputs": [],
   "source": [
    "from sklearn.metrics import mean_squared_error\n",
    "from sklearn.metrics import r2_score\n",
    "from math import sqrt"
   ]
  },
  {
   "cell_type": "code",
   "execution_count": 45,
   "metadata": {},
   "outputs": [
    {
     "name": "stdout",
     "output_type": "stream",
     "text": [
      "R Squared: 0.124\n",
      "RMSE: 0.432\n"
     ]
    }
   ],
   "source": [
    "#Make Predictions\n",
    "predictions = modelRF.predict(X_test)\n",
    "predRsquared = r2_score(y_test,predictions)\n",
    "rmse = sqrt(mean_squared_error(y_test, predictions))\n",
    "print('R Squared: %.3f' % predRsquared)\n",
    "print('RMSE: %.3f' % rmse)"
   ]
  },
  {
   "cell_type": "code",
   "execution_count": 46,
   "metadata": {},
   "outputs": [
    {
     "data": {
      "image/png": "[encoded data removed]",
      "text/plain": [
       "<Figure size 432x288 with 1 Axes>"
      ]
     },
     "metadata": {
      "needs_background": "light"
     },
     "output_type": "display_data"
    }
   ],
   "source": [
    "c=np.random.random(len(predictions))\n",
    "plt.scatter(y_test, predictions,c=c, alpha = 0.5)\n",
    "plt.xlabel('Ground Truth')\n",
    "plt.ylabel('Predictions')\n",
    "plt.show();"
   ]
  }
 ],
 "metadata": {
  "kernelspec": {
   "display_name": "Python 3",
   "language": "python",
   "name": "python3"
  },
  "language_info": {
   "codemirror_mode": {
    "name": "ipython",
    "version": 3
   },
   "file_extension": ".py",
   "mimetype": "text/x-python",
   "name": "python",
   "nbconvert_exporter": "python",
   "pygments_lexer": "ipython3",
   "version": "3.7.5"
  }
 },
 "nbformat": 4,
 "nbformat_minor": 4
}
